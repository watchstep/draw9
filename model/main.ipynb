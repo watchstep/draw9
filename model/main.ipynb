{
 "cells": [
  {
   "cell_type": "code",
   "execution_count": 21,
   "metadata": {},
   "outputs": [],
   "source": [
    "# # https://pypi.org/project/quickdraw\n",
    "# from quickdraw import QuickDrawData\n",
    "import numpy as np\n",
    "import urllib.request\n",
    "import os\n",
    "import glob as gb\n",
    "import pathlib\n",
    "import random\n",
    "import torch\n",
    "import matplotlib\n",
    "import matplotlib.pyplot as plt\n",
    "from torch.utils.data import random_split, TensorDataset, DataLoader"
   ]
  },
  {
   "cell_type": "code",
   "execution_count": 19,
   "metadata": {},
   "outputs": [],
   "source": [
    "# 난수 고정\n",
    "def set_seed(seed):\n",
    "    # os.environ['PYTHONASHSEED'] = 0 무작위화 비활성화\n",
    "    os.environ['PYTHONHASHSEED'] = str(seed)\n",
    "    torch.manual_seed(seed)\n",
    "    torch.cuda.manual_seed(seed)\n",
    "    torch.cuda.manual_seed_all(seed)\n",
    "    np.random.seed(seed)\n",
    "    random.seed(seed)\n",
    "\n",
    "# 이미지 저장\n",
    "def save_figure(figure_name, figure_base_path = './figure/', figure_extension='.png', resolution=300):\n",
    "    # make directory\n",
    "    try:\n",
    "        if not os.path.exists(figure_base_path):\n",
    "            os.makedirs(figure_base_path)\n",
    "    except:\n",
    "      print('already exists')\n",
    "    \n",
    "    figure_path = figure_base_path + figure_name + figure_extension\n",
    "    print('save figure: ', figure_name)\n",
    "    \n",
    "    plt.savefig(figure_path, bbox_inches='tight', format=figure_extension[1:], dpi=resolution)\n",
    "    \n",
    "    \n",
    "set_seed(1)"
   ]
  },
  {
   "cell_type": "code",
   "execution_count": 25,
   "metadata": {},
   "outputs": [],
   "source": [
    "# Get image labels\n",
    "def get_labels():\n",
    "  f = open('./30_labels.txt', 'r')\n",
    "  labels = f.readlines()\n",
    "  f.close()\n",
    "  \n",
    "  labels = [l.replace('\\n', '') for l in labels]\n",
    "  return labels"
   ]
  },
  {
   "cell_type": "code",
   "execution_count": 26,
   "metadata": {},
   "outputs": [
    {
     "name": "stdout",
     "output_type": "stream",
     "text": [
      "https://storage.googleapis.com/quickdraw_dataset/full/numpy_bitmap/airplane.npy\n",
      "https://storage.googleapis.com/quickdraw_dataset/full/numpy_bitmap/apple.npy\n",
      "https://storage.googleapis.com/quickdraw_dataset/full/numpy_bitmap/banana.npy\n",
      "https://storage.googleapis.com/quickdraw_dataset/full/numpy_bitmap/baseball.npy\n",
      "https://storage.googleapis.com/quickdraw_dataset/full/numpy_bitmap/bear.npy\n",
      "https://storage.googleapis.com/quickdraw_dataset/full/numpy_bitmap/bicycle.npy\n",
      "https://storage.googleapis.com/quickdraw_dataset/full/numpy_bitmap/bird.npy\n",
      "https://storage.googleapis.com/quickdraw_dataset/full/numpy_bitmap/bus.npy\n",
      "https://storage.googleapis.com/quickdraw_dataset/full/numpy_bitmap/cat.npy\n",
      "https://storage.googleapis.com/quickdraw_dataset/full/numpy_bitmap/cup.npy\n",
      "https://storage.googleapis.com/quickdraw_dataset/full/numpy_bitmap/dog.npy\n",
      "https://storage.googleapis.com/quickdraw_dataset/full/numpy_bitmap/duck.npy\n",
      "https://storage.googleapis.com/quickdraw_dataset/full/numpy_bitmap/fish.npy\n",
      "https://storage.googleapis.com/quickdraw_dataset/full/numpy_bitmap/flower.npy\n",
      "https://storage.googleapis.com/quickdraw_dataset/full/numpy_bitmap/hamburger.npy\n",
      "https://storage.googleapis.com/quickdraw_dataset/full/numpy_bitmap/house.npy\n",
      "https://storage.googleapis.com/quickdraw_dataset/full/numpy_bitmap/ice%20cream.npy\n",
      "https://storage.googleapis.com/quickdraw_dataset/full/numpy_bitmap/light%20bulb.npy\n",
      "https://storage.googleapis.com/quickdraw_dataset/full/numpy_bitmap/lion.npy\n",
      "https://storage.googleapis.com/quickdraw_dataset/full/numpy_bitmap/nose.npy\n",
      "https://storage.googleapis.com/quickdraw_dataset/full/numpy_bitmap/monkey.npy\n",
      "https://storage.googleapis.com/quickdraw_dataset/full/numpy_bitmap/moon.npy\n",
      "https://storage.googleapis.com/quickdraw_dataset/full/numpy_bitmap/pencil.npy\n",
      "https://storage.googleapis.com/quickdraw_dataset/full/numpy_bitmap/pig.npy\n",
      "https://storage.googleapis.com/quickdraw_dataset/full/numpy_bitmap/rabbit.npy\n",
      "https://storage.googleapis.com/quickdraw_dataset/full/numpy_bitmap/shoe.npy\n",
      "https://storage.googleapis.com/quickdraw_dataset/full/numpy_bitmap/spider.npy\n",
      "https://storage.googleapis.com/quickdraw_dataset/full/numpy_bitmap/sun.npy\n",
      "https://storage.googleapis.com/quickdraw_dataset/full/numpy_bitmap/tree.npy\n",
      "https://storage.googleapis.com/quickdraw_dataset/full/numpy_bitmap/umbrella.npy\n",
      "Done!\n"
     ]
    }
   ],
   "source": [
    "def load_dataset():\n",
    "  # make directory\n",
    "  dataset_path = './dataset/'\n",
    "  try:\n",
    "    if not os.path.exists(dataset_path):\n",
    "      os.makedirs(dataset_path)\n",
    "  except:\n",
    "      None\n",
    "      \n",
    "  # get data from web\n",
    "  labels = get_labels()\n",
    "  base_url = 'https://storage.googleapis.com/quickdraw_dataset/full/numpy_bitmap/'\n",
    "  for label in labels:\n",
    "    label_url = label.replace('_', '%20')\n",
    "    npy_url = base_url + label_url + '.npy'\n",
    "    print(npy_url)\n",
    "    urllib.request.urlretrieve(npy_url, dataset_path + label + '.npy')\n",
    "\n",
    "  print('Done!')\n",
    "  \n",
    "load_dataset()"
   ]
  },
  {
   "cell_type": "code",
   "execution_count": 6,
   "metadata": {},
   "outputs": [],
   "source": [
    "# https://stackoverflow.com/questions/44429199/how-to-load-a-list-of-numpy-arrays-to-pytorch-dataset-loader\n",
    "\n",
    "def prepare_dataset(test_ratio=0.2, max_items_per_class=10000):\n",
    "    npy_files = gb.glob('./dataset/*.npy')\n",
    "\n",
    "    #initialize variables \n",
    "    x = np.empty([0, 784]) # 28*28 =784\n",
    "    y = np.empty([0])\n",
    "    classes = []\n",
    "\n",
    "    #load a subset of the data to memory \n",
    "    for idx, npy_file in enumerate(npy_files):\n",
    "        data = np.load(npy_file)\n",
    "        data = data[0: max_items_per_class, :]\n",
    "        labels = np.full(data.shape[0], idx)\n",
    "\n",
    "        x = np.concatenate((x, data), axis=0)\n",
    "        y = np.append(y, labels)\n",
    "    \n",
    "        label, extension = os.path.splitext(os.path.basename(npy_file))\n",
    "        classes.append(label)\n",
    "\n",
    "    data = None\n",
    "    labels = None\n",
    "    \n",
    "    # transform to torch tensor\n",
    "    tensor_x = torch.Tensor(x)\n",
    "    tensor_x = tensor_x.reshape(tensor_x.shape[0], 1, 28, 28)\n",
    "    tensor_y = torch.Tensor(y)\n",
    "    \n",
    "    # create dataset\n",
    "    dataset = TensorDataset(tensor_x, tensor_y)\n",
    "\n",
    "    #separate into train data and test data\n",
    "    lengths = [int(len(dataset)*(1-test_ratio)), int(len(dataset)*test_ratio)]\n",
    "    \n",
    "    train_dataset, test_dataset = random_split(dataset=dataset, lengths=lengths)\n",
    "    \n",
    "    return train_dataset, test_dataset, classes"
   ]
  },
  {
   "cell_type": "code",
   "execution_count": 3,
   "metadata": {},
   "outputs": [
    {
     "name": "stdout",
     "output_type": "stream",
     "text": [
      "Using Pytorch version :  1.12.1 DEVICE :  cuda:0\n"
     ]
    }
   ],
   "source": [
    "# Get cpu or gpu device for training.\n",
    "if torch.cuda.is_available():\n",
    "  DEVICE = torch.device('cuda:0')\n",
    "else:\n",
    "  DEVICE = torch.deivce('cpu')\n",
    "\n",
    "print('Using Pytorch version : ',  torch.__version__, 'DEVICE : ', DEVICE)"
   ]
  },
  {
   "cell_type": "code",
   "execution_count": 7,
   "metadata": {},
   "outputs": [],
   "source": [
    "train_dataset, test_dataset, classes = prepare_dataset()"
   ]
  },
  {
   "cell_type": "code",
   "execution_count": 8,
   "metadata": {},
   "outputs": [],
   "source": [
    "# hyperparameter\n",
    "BATCH_SIZE = 128\n",
    "EPOCHS = 30"
   ]
  },
  {
   "cell_type": "code",
   "execution_count": 9,
   "metadata": {},
   "outputs": [],
   "source": [
    "train_loader = DataLoader(dataset=train_dataset, batch_size=BATCH_SIZE, shuffle=True)\n",
    "test_loader = DataLoader(dataset=test_dataset, batch_size=BATCH_SIZE, shuffle=True)"
   ]
  },
  {
   "cell_type": "code",
   "execution_count": 12,
   "metadata": {},
   "outputs": [
    {
     "name": "stdout",
     "output_type": "stream",
     "text": [
      "Shape of X_train [N, C, H, W] : torch.Size([128, 1, 28, 28]) \n",
      "Type of X_train : torch.float32\n",
      "\n",
      "Shape of y_train [N, C, H, W] : torch.Size([128]) \n",
      "Type of y_train : torch.float32\n",
      "\n",
      "Shape of X_test [N, C, H, W] : torch.Size([128, 1, 28, 28]) \n",
      "Type of X_test : torch.float32\n",
      "\n",
      "Shape of y_test [N, C, H, W] : torch.Size([128]) \n",
      "Type of y_test : torch.float32\n",
      "\n"
     ]
    }
   ],
   "source": [
    "for (X_train, y_train) in train_loader:\n",
    "  print(f'Shape of X_train [N, C, H, W] : {X_train.shape}', f'\\nType of X_train : {X_train.dtype}\\n')  # X_train.type() : torch.FloatTensor\n",
    "  print(f'Shape of y_train [N, C, H, W] : {y_train.shape}', f'\\nType of y_train : {y_train.dtype}\\n')  # y_traon.type() : torch.LongTensor\n",
    "  break\n",
    "\n",
    "for (X_test, y_test) in test_loader:\n",
    "  print(f'Shape of X_test [N, C, H, W] : {X_test.shape}', f'\\nType of X_test : {X_test.dtype}\\n')  # X_train.type() : torch.FloatTensor\n",
    "  print(f'Shape of y_test [N, C, H, W] : {y_test.shape}', f'\\nType of y_test : {y_test.dtype}\\n')  # y_traon.type() : torch.LongTensor\n",
    "  break"
   ]
  },
  {
   "cell_type": "code",
   "execution_count": 17,
   "metadata": {},
   "outputs": [],
   "source": [
    "def imshow(img, label):\n",
    "  img = img / 2 + 0.5  # unnormalize\n",
    "  npimg = img.numpy()\n",
    "  plt.figure(figsize=(5, 5))\n",
    "  plt.imshow(np.transpose(npimg, (1, 2, 0)))\n",
    "  plt.axis('off')\n",
    "  save_figure(label)\n",
    "  plt.show()\n",
    "\n",
    "def idx_to_class(y_idx):\n",
    "  return classes[int(y_idx.item())]"
   ]
  },
  {
   "cell_type": "code",
   "execution_count": 20,
   "metadata": {},
   "outputs": [
    {
     "name": "stdout",
     "output_type": "stream",
     "text": [
      "save figure:  dog\n"
     ]
    },
    {
     "data": {
      "image/png": "[encoded data removed]",
      "text/plain": [
       "<Figure size 360x360 with 1 Axes>"
      ]
     },
     "metadata": {
      "needs_background": "light"
     },
     "output_type": "display_data"
    }
   ],
   "source": [
    "data_iter = iter(train_loader)\n",
    "images, labels = next(data_iter)\n",
    "\n",
    "imshow(images[0], idx_to_class(labels[0]))"
   ]
  },
  {
   "cell_type": "code",
   "execution_count": 36,
   "metadata": {},
   "outputs": [
    {
     "name": "stdout",
     "output_type": "stream",
     "text": [
      "save figure:  quickdraw_visualization\n"
     ]
    },
    {
     "data": {
      "image/png": "[encoded data removed]",
      "text/plain": [
       "<Figure size 720x360 with 10 Axes>"
      ]
     },
     "metadata": {
      "needs_background": "light"
     },
     "output_type": "display_data"
    }
   ],
   "source": [
    "plt.figure(figsize=(10, 5))\n",
    "\n",
    "for i in range(10):\n",
    "  plt.subplot(2, 5, i+1)\n",
    "  plt.axis('off')\n",
    "  plt.imshow(X_train[i, :, :, :].squeeze(), cmap='binary')  # X_train [32, 1, 28, 28] -> [i, :, :, :] -> squeeze() -> [28, 28]\n",
    "  plt.title(idx_to_class(y_train[i]))\n",
    "  \n",
    "save_figure('quickdraw_visualization')"
   ]
  },
  {
   "cell_type": "code",
   "execution_count": null,
   "metadata": {},
   "outputs": [],
   "source": []
  }
 ],
 "metadata": {
  "kernelspec": {
   "display_name": "Python 3.9.12 ('base')",
   "language": "python",
   "name": "python3"
  },
  "language_info": {
   "codemirror_mode": {
    "name": "ipython",
    "version": 3
   },
   "file_extension": ".py",
   "mimetype": "text/x-python",
   "name": "python",
   "nbconvert_exporter": "python",
   "pygments_lexer": "ipython3",
   "version": "3.9.12"
  },
  "orig_nbformat": 4,
  "vscode": {
   "interpreter": {
    "hash": "19d1d53a962d236aa061289c2ac16dc8e6d9648c89fe79f459ae9a3493bc67b4"
   }
  }
 },
 "nbformat": 4,
 "nbformat_minor": 2
}
