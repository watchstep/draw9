{
 "cells": [
  {
   "cell_type": "code",
   "execution_count": 1,
   "metadata": {},
   "outputs": [],
   "source": [
    "# # https://pypi.org/project/quickdraw\n",
    "# from quickdraw import QuickDrawData\n",
    "import numpy as np\n",
    "import urllib.request\n",
    "import os\n",
    "import glob as gb\n",
    "import pathlib\n",
    "import random\n",
    "import torch\n",
    "import matplotlib\n",
    "import matplotlib.pyplot as plt\n",
    "from torch.utils.data import random_split, TensorDataset, DataLoader"
   ]
  },
  {
   "cell_type": "code",
   "execution_count": 2,
   "metadata": {},
   "outputs": [],
   "source": [
    "# 난수 고정\n",
    "def set_seed(seed):\n",
    "    # os.environ['PYTHONASHSEED'] = 0 무작위화 비활성화\n",
    "    os.environ['PYTHONHASHSEED'] = str(seed)\n",
    "    torch.manual_seed(seed)\n",
    "    torch.cuda.manual_seed(seed)\n",
    "    torch.cuda.manual_seed_all(seed)\n",
    "    np.random.seed(seed)\n",
    "    random.seed(seed)\n",
    "\n",
    "# 이미지 저장\n",
    "def save_figure(figure_name, figure_base_path = './figure/', figure_extension='.png', resolution=300):\n",
    "    # make directory\n",
    "    try:\n",
    "        if not os.path.exists(figure_base_path):\n",
    "            os.makedirs(figure_base_path)\n",
    "    except:\n",
    "      print('already exists')\n",
    "    \n",
    "    figure_path = figure_base_path + figure_name + figure_extension\n",
    "    print('save figure: ', figure_name)\n",
    "    \n",
    "    plt.savefig(figure_path, bbox_inches='tight', format=figure_extension[1:], dpi=resolution)\n",
    "    \n",
    "    \n",
    "set_seed(1)"
   ]
  },
  {
   "cell_type": "markdown",
   "metadata": {},
   "source": [
    "## Prepare Dataset"
   ]
  },
  {
   "cell_type": "code",
   "execution_count": 3,
   "metadata": {},
   "outputs": [],
   "source": [
    "# Get image labels\n",
    "def get_labels():\n",
    "  f = open('./30_labels.txt', 'r')\n",
    "  labels = f.readlines()\n",
    "  f.close()\n",
    "  \n",
    "  labels = [l.replace('\\n', '') for l in labels]\n",
    "  return labels"
   ]
  },
  {
   "cell_type": "code",
   "execution_count": null,
   "metadata": {},
   "outputs": [],
   "source": [
    "def load_dataset():\n",
    "  # make directory\n",
    "  dataset_path = './dataset/'\n",
    "  try:\n",
    "    if not os.path.exists(dataset_path):\n",
    "      os.makedirs(dataset_path)\n",
    "  except:\n",
    "      None\n",
    "      \n",
    "  # get data from web\n",
    "  labels = get_labels()\n",
    "  base_url = 'https://storage.googleapis.com/quickdraw_dataset/full/numpy_bitmap/'\n",
    "  for label in labels:\n",
    "    label_url = label.replace('_', '%20')\n",
    "    npy_url = base_url + label_url + '.npy'\n",
    "    print(npy_url)\n",
    "    urllib.request.urlretrieve(npy_url, dataset_path + label + '.npy')\n",
    "\n",
    "  print('Done!')\n",
    "  \n",
    "load_dataset()"
   ]
  },
  {
   "cell_type": "code",
   "execution_count": 4,
   "metadata": {},
   "outputs": [],
   "source": [
    "# https://stackoverflow.com/questions/44429199/how-to-load-a-list-of-numpy-arrays-to-pytorch-dataset-loader\n",
    "# https://velog.io/@dust_potato/Data-Augmentation-%EC%96%B4%EB%96%A4-transform%EC%9D%84-%EC%A4%98%EC%95%BC-%EC%9E%98%ED%96%88%EB%8B%A4%EA%B3%A0-%EC%86%8C%EB%AC%B8%EC%9D%B4-%EB%82%A0%EA%B9%8C\n",
    "\n",
    "def prepare_dataset(test_ratio=0.2, max_items_per_class=10000):\n",
    "    npy_files = gb.glob('./dataset/*.npy')\n",
    "\n",
    "    #initialize variables \n",
    "    x = np.empty([0, 784]) # 28*28 =784\n",
    "    y = np.empty([0])\n",
    "    classes = []\n",
    "\n",
    "    #load a subset of the data to memory \n",
    "    for idx, npy_file in enumerate(npy_files):\n",
    "        data = np.load(npy_file)\n",
    "        data = data[0: max_items_per_class, :]\n",
    "        labels = np.full(data.shape[0], idx)\n",
    "\n",
    "        x = np.concatenate((x, data), axis=0)\n",
    "        y = np.append(y, labels)\n",
    "    \n",
    "        label, extension = os.path.splitext(os.path.basename(npy_file))\n",
    "        classes.append(label)\n",
    "\n",
    "    data = None\n",
    "    labels = None\n",
    "    \n",
    "    # transform to torch tensor\n",
    "    tensor_x = torch.Tensor(x)\n",
    "    tensor_x = tensor_x.reshape(tensor_x.shape[0], 1, 28, 28)\n",
    "    # normalizatoin\n",
    "    tensor_x /= 255.0\n",
    "    tensor_y = torch.Tensor(y)\n",
    "    \n",
    "    # create dataset\n",
    "    dataset = TensorDataset(tensor_x, tensor_y)\n",
    "\n",
    "    #separate into train data and test data\n",
    "    lengths = [int(len(dataset)*(1-test_ratio)), int(len(dataset)*test_ratio)]\n",
    "    \n",
    "    train_dataset, test_dataset = random_split(dataset=dataset, lengths=lengths)\n",
    "    \n",
    "    return train_dataset, test_dataset, classes"
   ]
  },
  {
   "cell_type": "markdown",
   "metadata": {},
   "source": [
    "## Check Device"
   ]
  },
  {
   "cell_type": "code",
   "execution_count": 5,
   "metadata": {},
   "outputs": [
    {
     "name": "stdout",
     "output_type": "stream",
     "text": [
      "Using Pytorch version :  1.12.1 DEVICE :  cuda\n"
     ]
    }
   ],
   "source": [
    "# Get cpu or gpu device for training.\n",
    "if torch.cuda.is_available():\n",
    "  DEVICE = torch.device('cuda')\n",
    "else:\n",
    "  DEVICE = torch.deivce('cpu')\n",
    "\n",
    "print('Using Pytorch version : ',  torch.__version__, 'DEVICE : ', DEVICE)"
   ]
  },
  {
   "cell_type": "markdown",
   "metadata": {},
   "source": [
    "## Data Loader"
   ]
  },
  {
   "cell_type": "code",
   "execution_count": 6,
   "metadata": {},
   "outputs": [],
   "source": [
    "train_dataset, test_dataset, classes = prepare_dataset()"
   ]
  },
  {
   "cell_type": "code",
   "execution_count": 7,
   "metadata": {},
   "outputs": [],
   "source": [
    "# hyperparameter\n",
    "BATCH_SIZE = 64\n",
    "EPOCHS = 30"
   ]
  },
  {
   "cell_type": "code",
   "execution_count": 8,
   "metadata": {},
   "outputs": [],
   "source": [
    "train_loader = DataLoader(dataset=train_dataset, batch_size=BATCH_SIZE, shuffle=True)\n",
    "test_loader = DataLoader(dataset=test_dataset, batch_size=BATCH_SIZE, shuffle=False)"
   ]
  },
  {
   "cell_type": "code",
   "execution_count": 9,
   "metadata": {},
   "outputs": [
    {
     "name": "stdout",
     "output_type": "stream",
     "text": [
      "Shape of X_train [N, C, H, W] : torch.Size([64, 1, 28, 28]) \n",
      "Type of X_train : torch.float32\n",
      "\n",
      "Shape of y_train [N, C, H, W] : torch.Size([64]) \n",
      "Type of y_train : torch.float32\n",
      "\n"
     ]
    }
   ],
   "source": [
    "for (X_train, y_train) in train_loader:\n",
    "  print(f'Shape of X_train [N, C, H, W] : {X_train.shape}', f'\\nType of X_train : {X_train.dtype}\\n')  # X_train.type() : torch.FloatTensor\n",
    "  print(f'Shape of y_train [N, C, H, W] : {y_train.shape}', f'\\nType of y_train : {y_train.dtype}\\n')  # y_traon.type() : torch.LongTensor\n",
    "  break"
   ]
  },
  {
   "cell_type": "markdown",
   "metadata": {},
   "source": [
    "## Data Visualization"
   ]
  },
  {
   "cell_type": "code",
   "execution_count": 10,
   "metadata": {},
   "outputs": [],
   "source": [
    "def imshow(img, label):\n",
    "  img = img / 2 + 0.5  # unnormalize\n",
    "  npimg = img.numpy()\n",
    "  plt.figure(figsize=(5, 5))\n",
    "  plt.imshow(np.transpose(npimg, (1, 2, 0)))\n",
    "  plt.axis('off')\n",
    "  save_figure(label)\n",
    "  plt.show()\n",
    "\n",
    "def idx_to_class(y_idx):\n",
    "  return classes[int(y_idx.item())]"
   ]
  },
  {
   "cell_type": "code",
   "execution_count": 11,
   "metadata": {},
   "outputs": [
    {
     "name": "stdout",
     "output_type": "stream",
     "text": [
      "save figure:  hamburger\n"
     ]
    },
    {
     "data": {
      "image/png": "[encoded data removed]",
      "text/plain": [
       "<Figure size 360x360 with 1 Axes>"
      ]
     },
     "metadata": {
      "needs_background": "light"
     },
     "output_type": "display_data"
    }
   ],
   "source": [
    "data_iter = iter(train_loader)\n",
    "images, labels = next(data_iter)\n",
    "\n",
    "imshow(images[0], idx_to_class(labels[0]))"
   ]
  },
  {
   "cell_type": "code",
   "execution_count": 12,
   "metadata": {},
   "outputs": [
    {
     "name": "stdout",
     "output_type": "stream",
     "text": [
      "save figure:  quickdraw_visualization\n"
     ]
    },
    {
     "data": {
      "image/png": "[encoded data removed]",
      "text/plain": [
       "<Figure size 720x360 with 10 Axes>"
      ]
     },
     "metadata": {
      "needs_background": "light"
     },
     "output_type": "display_data"
    }
   ],
   "source": [
    "plt.figure(figsize=(10, 5))\n",
    "\n",
    "for i in range(10):\n",
    "  plt.subplot(2, 5, i+1)\n",
    "  plt.axis('off')\n",
    "  plt.imshow(X_train[i, :, :, :].squeeze(), cmap='binary')  # X_train [32, 1, 28, 28] -> [i, :, :, :] -> squeeze() -> [28, 28]\n",
    "  plt.title(idx_to_class(y_train[i]))\n",
    "  \n",
    "save_figure('quickdraw_visualization')"
   ]
  },
  {
   "cell_type": "markdown",
   "metadata": {},
   "source": [
    "## Model"
   ]
  },
  {
   "cell_type": "code",
   "execution_count": 13,
   "metadata": {},
   "outputs": [],
   "source": [
    "#Importing PyTorch module\n",
    "\n",
    "import time\n",
    "import torch.nn as nn\n",
    "from torch import optim\n",
    "import torch.nn.functional as F\n",
    "from torchvision import models\n",
    "from torchvision import transforms\n",
    "from torchsummary import summary"
   ]
  },
  {
   "cell_type": "code",
   "execution_count": 14,
   "metadata": {},
   "outputs": [],
   "source": [
    "def resnet34(num_classes):\n",
    "    model = models.resnet34(pretrained=True)\n",
    "    conv1_out_channels = model.conv1.out_channels\n",
    "    model.conv1 = nn.Conv2d(1, conv1_out_channels, kernel_size=3,\n",
    "                            stride=1, padding=1, bias=False)\n",
    "    model.maxpool = nn.MaxPool2d(kernel_size=2)\n",
    "    fc_features = model.fc.in_features\n",
    "    model.fc = nn.Linear(fc_features, num_classes)\n",
    "    return model"
   ]
  },
  {
   "cell_type": "code",
   "execution_count": 15,
   "metadata": {},
   "outputs": [
    {
     "name": "stderr",
     "output_type": "stream",
     "text": [
      "c:\\ProgramData\\Miniconda3\\lib\\site-packages\\torchvision\\models\\_utils.py:208: UserWarning: The parameter 'pretrained' is deprecated since 0.13 and will be removed in 0.15, please use 'weights' instead.\n",
      "  warnings.warn(\n",
      "c:\\ProgramData\\Miniconda3\\lib\\site-packages\\torchvision\\models\\_utils.py:223: UserWarning: Arguments other than a weight enum or `None` for 'weights' are deprecated since 0.13 and will be removed in 0.15. The current behavior is equivalent to passing `weights=ResNet34_Weights.IMAGENET1K_V1`. You can also use `weights=ResNet34_Weights.DEFAULT` to get the most up-to-date weights.\n",
      "  warnings.warn(msg)\n"
     ]
    },
    {
     "data": {
      "text/plain": [
       "ResNet(\n",
       "  (conv1): Conv2d(1, 64, kernel_size=(3, 3), stride=(1, 1), padding=(1, 1), bias=False)\n",
       "  (bn1): BatchNorm2d(64, eps=1e-05, momentum=0.1, affine=True, track_running_stats=True)\n",
       "  (relu): ReLU(inplace=True)\n",
       "  (maxpool): MaxPool2d(kernel_size=2, stride=2, padding=0, dilation=1, ceil_mode=False)\n",
       "  (layer1): Sequential(\n",
       "    (0): BasicBlock(\n",
       "      (conv1): Conv2d(64, 64, kernel_size=(3, 3), stride=(1, 1), padding=(1, 1), bias=False)\n",
       "      (bn1): BatchNorm2d(64, eps=1e-05, momentum=0.1, affine=True, track_running_stats=True)\n",
       "      (relu): ReLU(inplace=True)\n",
       "      (conv2): Conv2d(64, 64, kernel_size=(3, 3), stride=(1, 1), padding=(1, 1), bias=False)\n",
       "      (bn2): BatchNorm2d(64, eps=1e-05, momentum=0.1, affine=True, track_running_stats=True)\n",
       "    )\n",
       "    (1): BasicBlock(\n",
       "      (conv1): Conv2d(64, 64, kernel_size=(3, 3), stride=(1, 1), padding=(1, 1), bias=False)\n",
       "      (bn1): BatchNorm2d(64, eps=1e-05, momentum=0.1, affine=True, track_running_stats=True)\n",
       "      (relu): ReLU(inplace=True)\n",
       "      (conv2): Conv2d(64, 64, kernel_size=(3, 3), stride=(1, 1), padding=(1, 1), bias=False)\n",
       "      (bn2): BatchNorm2d(64, eps=1e-05, momentum=0.1, affine=True, track_running_stats=True)\n",
       "    )\n",
       "    (2): BasicBlock(\n",
       "      (conv1): Conv2d(64, 64, kernel_size=(3, 3), stride=(1, 1), padding=(1, 1), bias=False)\n",
       "      (bn1): BatchNorm2d(64, eps=1e-05, momentum=0.1, affine=True, track_running_stats=True)\n",
       "      (relu): ReLU(inplace=True)\n",
       "      (conv2): Conv2d(64, 64, kernel_size=(3, 3), stride=(1, 1), padding=(1, 1), bias=False)\n",
       "      (bn2): BatchNorm2d(64, eps=1e-05, momentum=0.1, affine=True, track_running_stats=True)\n",
       "    )\n",
       "  )\n",
       "  (layer2): Sequential(\n",
       "    (0): BasicBlock(\n",
       "      (conv1): Conv2d(64, 128, kernel_size=(3, 3), stride=(2, 2), padding=(1, 1), bias=False)\n",
       "      (bn1): BatchNorm2d(128, eps=1e-05, momentum=0.1, affine=True, track_running_stats=True)\n",
       "      (relu): ReLU(inplace=True)\n",
       "      (conv2): Conv2d(128, 128, kernel_size=(3, 3), stride=(1, 1), padding=(1, 1), bias=False)\n",
       "      (bn2): BatchNorm2d(128, eps=1e-05, momentum=0.1, affine=True, track_running_stats=True)\n",
       "      (downsample): Sequential(\n",
       "        (0): Conv2d(64, 128, kernel_size=(1, 1), stride=(2, 2), bias=False)\n",
       "        (1): BatchNorm2d(128, eps=1e-05, momentum=0.1, affine=True, track_running_stats=True)\n",
       "      )\n",
       "    )\n",
       "    (1): BasicBlock(\n",
       "      (conv1): Conv2d(128, 128, kernel_size=(3, 3), stride=(1, 1), padding=(1, 1), bias=False)\n",
       "      (bn1): BatchNorm2d(128, eps=1e-05, momentum=0.1, affine=True, track_running_stats=True)\n",
       "      (relu): ReLU(inplace=True)\n",
       "      (conv2): Conv2d(128, 128, kernel_size=(3, 3), stride=(1, 1), padding=(1, 1), bias=False)\n",
       "      (bn2): BatchNorm2d(128, eps=1e-05, momentum=0.1, affine=True, track_running_stats=True)\n",
       "    )\n",
       "    (2): BasicBlock(\n",
       "      (conv1): Conv2d(128, 128, kernel_size=(3, 3), stride=(1, 1), padding=(1, 1), bias=False)\n",
       "      (bn1): BatchNorm2d(128, eps=1e-05, momentum=0.1, affine=True, track_running_stats=True)\n",
       "      (relu): ReLU(inplace=True)\n",
       "      (conv2): Conv2d(128, 128, kernel_size=(3, 3), stride=(1, 1), padding=(1, 1), bias=False)\n",
       "      (bn2): BatchNorm2d(128, eps=1e-05, momentum=0.1, affine=True, track_running_stats=True)\n",
       "    )\n",
       "    (3): BasicBlock(\n",
       "      (conv1): Conv2d(128, 128, kernel_size=(3, 3), stride=(1, 1), padding=(1, 1), bias=False)\n",
       "      (bn1): BatchNorm2d(128, eps=1e-05, momentum=0.1, affine=True, track_running_stats=True)\n",
       "      (relu): ReLU(inplace=True)\n",
       "      (conv2): Conv2d(128, 128, kernel_size=(3, 3), stride=(1, 1), padding=(1, 1), bias=False)\n",
       "      (bn2): BatchNorm2d(128, eps=1e-05, momentum=0.1, affine=True, track_running_stats=True)\n",
       "    )\n",
       "  )\n",
       "  (layer3): Sequential(\n",
       "    (0): BasicBlock(\n",
       "      (conv1): Conv2d(128, 256, kernel_size=(3, 3), stride=(2, 2), padding=(1, 1), bias=False)\n",
       "      (bn1): BatchNorm2d(256, eps=1e-05, momentum=0.1, affine=True, track_running_stats=True)\n",
       "      (relu): ReLU(inplace=True)\n",
       "      (conv2): Conv2d(256, 256, kernel_size=(3, 3), stride=(1, 1), padding=(1, 1), bias=False)\n",
       "      (bn2): BatchNorm2d(256, eps=1e-05, momentum=0.1, affine=True, track_running_stats=True)\n",
       "      (downsample): Sequential(\n",
       "        (0): Conv2d(128, 256, kernel_size=(1, 1), stride=(2, 2), bias=False)\n",
       "        (1): BatchNorm2d(256, eps=1e-05, momentum=0.1, affine=True, track_running_stats=True)\n",
       "      )\n",
       "    )\n",
       "    (1): BasicBlock(\n",
       "      (conv1): Conv2d(256, 256, kernel_size=(3, 3), stride=(1, 1), padding=(1, 1), bias=False)\n",
       "      (bn1): BatchNorm2d(256, eps=1e-05, momentum=0.1, affine=True, track_running_stats=True)\n",
       "      (relu): ReLU(inplace=True)\n",
       "      (conv2): Conv2d(256, 256, kernel_size=(3, 3), stride=(1, 1), padding=(1, 1), bias=False)\n",
       "      (bn2): BatchNorm2d(256, eps=1e-05, momentum=0.1, affine=True, track_running_stats=True)\n",
       "    )\n",
       "    (2): BasicBlock(\n",
       "      (conv1): Conv2d(256, 256, kernel_size=(3, 3), stride=(1, 1), padding=(1, 1), bias=False)\n",
       "      (bn1): BatchNorm2d(256, eps=1e-05, momentum=0.1, affine=True, track_running_stats=True)\n",
       "      (relu): ReLU(inplace=True)\n",
       "      (conv2): Conv2d(256, 256, kernel_size=(3, 3), stride=(1, 1), padding=(1, 1), bias=False)\n",
       "      (bn2): BatchNorm2d(256, eps=1e-05, momentum=0.1, affine=True, track_running_stats=True)\n",
       "    )\n",
       "    (3): BasicBlock(\n",
       "      (conv1): Conv2d(256, 256, kernel_size=(3, 3), stride=(1, 1), padding=(1, 1), bias=False)\n",
       "      (bn1): BatchNorm2d(256, eps=1e-05, momentum=0.1, affine=True, track_running_stats=True)\n",
       "      (relu): ReLU(inplace=True)\n",
       "      (conv2): Conv2d(256, 256, kernel_size=(3, 3), stride=(1, 1), padding=(1, 1), bias=False)\n",
       "      (bn2): BatchNorm2d(256, eps=1e-05, momentum=0.1, affine=True, track_running_stats=True)\n",
       "    )\n",
       "    (4): BasicBlock(\n",
       "      (conv1): Conv2d(256, 256, kernel_size=(3, 3), stride=(1, 1), padding=(1, 1), bias=False)\n",
       "      (bn1): BatchNorm2d(256, eps=1e-05, momentum=0.1, affine=True, track_running_stats=True)\n",
       "      (relu): ReLU(inplace=True)\n",
       "      (conv2): Conv2d(256, 256, kernel_size=(3, 3), stride=(1, 1), padding=(1, 1), bias=False)\n",
       "      (bn2): BatchNorm2d(256, eps=1e-05, momentum=0.1, affine=True, track_running_stats=True)\n",
       "    )\n",
       "    (5): BasicBlock(\n",
       "      (conv1): Conv2d(256, 256, kernel_size=(3, 3), stride=(1, 1), padding=(1, 1), bias=False)\n",
       "      (bn1): BatchNorm2d(256, eps=1e-05, momentum=0.1, affine=True, track_running_stats=True)\n",
       "      (relu): ReLU(inplace=True)\n",
       "      (conv2): Conv2d(256, 256, kernel_size=(3, 3), stride=(1, 1), padding=(1, 1), bias=False)\n",
       "      (bn2): BatchNorm2d(256, eps=1e-05, momentum=0.1, affine=True, track_running_stats=True)\n",
       "    )\n",
       "  )\n",
       "  (layer4): Sequential(\n",
       "    (0): BasicBlock(\n",
       "      (conv1): Conv2d(256, 512, kernel_size=(3, 3), stride=(2, 2), padding=(1, 1), bias=False)\n",
       "      (bn1): BatchNorm2d(512, eps=1e-05, momentum=0.1, affine=True, track_running_stats=True)\n",
       "      (relu): ReLU(inplace=True)\n",
       "      (conv2): Conv2d(512, 512, kernel_size=(3, 3), stride=(1, 1), padding=(1, 1), bias=False)\n",
       "      (bn2): BatchNorm2d(512, eps=1e-05, momentum=0.1, affine=True, track_running_stats=True)\n",
       "      (downsample): Sequential(\n",
       "        (0): Conv2d(256, 512, kernel_size=(1, 1), stride=(2, 2), bias=False)\n",
       "        (1): BatchNorm2d(512, eps=1e-05, momentum=0.1, affine=True, track_running_stats=True)\n",
       "      )\n",
       "    )\n",
       "    (1): BasicBlock(\n",
       "      (conv1): Conv2d(512, 512, kernel_size=(3, 3), stride=(1, 1), padding=(1, 1), bias=False)\n",
       "      (bn1): BatchNorm2d(512, eps=1e-05, momentum=0.1, affine=True, track_running_stats=True)\n",
       "      (relu): ReLU(inplace=True)\n",
       "      (conv2): Conv2d(512, 512, kernel_size=(3, 3), stride=(1, 1), padding=(1, 1), bias=False)\n",
       "      (bn2): BatchNorm2d(512, eps=1e-05, momentum=0.1, affine=True, track_running_stats=True)\n",
       "    )\n",
       "    (2): BasicBlock(\n",
       "      (conv1): Conv2d(512, 512, kernel_size=(3, 3), stride=(1, 1), padding=(1, 1), bias=False)\n",
       "      (bn1): BatchNorm2d(512, eps=1e-05, momentum=0.1, affine=True, track_running_stats=True)\n",
       "      (relu): ReLU(inplace=True)\n",
       "      (conv2): Conv2d(512, 512, kernel_size=(3, 3), stride=(1, 1), padding=(1, 1), bias=False)\n",
       "      (bn2): BatchNorm2d(512, eps=1e-05, momentum=0.1, affine=True, track_running_stats=True)\n",
       "    )\n",
       "  )\n",
       "  (avgpool): AdaptiveAvgPool2d(output_size=(1, 1))\n",
       "  (fc): Linear(in_features=512, out_features=30, bias=True)\n",
       ")"
      ]
     },
     "execution_count": 15,
     "metadata": {},
     "output_type": "execute_result"
    }
   ],
   "source": [
    "model = resnet34(30).to(DEVICE)\n",
    "\n",
    "model"
   ]
  },
  {
   "cell_type": "code",
   "execution_count": 16,
   "metadata": {},
   "outputs": [],
   "source": [
    "optimizer = optim.Adam(model.parameters(), lr=1e-4)\n",
    "scheduler = optim.lr_scheduler.CosineAnnealingLR(optimizer, T_max=100, eta_min=0.001)\n",
    "\n",
    "criterion = nn.CrossEntropyLoss()"
   ]
  },
  {
   "cell_type": "code",
   "execution_count": 17,
   "metadata": {},
   "outputs": [
    {
     "name": "stdout",
     "output_type": "stream",
     "text": [
      "----------------------------------------------------------------\n",
      "        Layer (type)               Output Shape         Param #\n",
      "================================================================\n",
      "            Conv2d-1           [-1, 64, 28, 28]             576\n",
      "       BatchNorm2d-2           [-1, 64, 28, 28]             128\n",
      "              ReLU-3           [-1, 64, 28, 28]               0\n",
      "         MaxPool2d-4           [-1, 64, 14, 14]               0\n",
      "            Conv2d-5           [-1, 64, 14, 14]          36,864\n",
      "       BatchNorm2d-6           [-1, 64, 14, 14]             128\n",
      "              ReLU-7           [-1, 64, 14, 14]               0\n",
      "            Conv2d-8           [-1, 64, 14, 14]          36,864\n",
      "       BatchNorm2d-9           [-1, 64, 14, 14]             128\n",
      "             ReLU-10           [-1, 64, 14, 14]               0\n",
      "       BasicBlock-11           [-1, 64, 14, 14]               0\n",
      "           Conv2d-12           [-1, 64, 14, 14]          36,864\n",
      "      BatchNorm2d-13           [-1, 64, 14, 14]             128\n",
      "             ReLU-14           [-1, 64, 14, 14]               0\n",
      "           Conv2d-15           [-1, 64, 14, 14]          36,864\n",
      "      BatchNorm2d-16           [-1, 64, 14, 14]             128\n",
      "             ReLU-17           [-1, 64, 14, 14]               0\n",
      "       BasicBlock-18           [-1, 64, 14, 14]               0\n",
      "           Conv2d-19           [-1, 64, 14, 14]          36,864\n",
      "      BatchNorm2d-20           [-1, 64, 14, 14]             128\n",
      "             ReLU-21           [-1, 64, 14, 14]               0\n",
      "           Conv2d-22           [-1, 64, 14, 14]          36,864\n",
      "      BatchNorm2d-23           [-1, 64, 14, 14]             128\n",
      "             ReLU-24           [-1, 64, 14, 14]               0\n",
      "       BasicBlock-25           [-1, 64, 14, 14]               0\n",
      "           Conv2d-26            [-1, 128, 7, 7]          73,728\n",
      "      BatchNorm2d-27            [-1, 128, 7, 7]             256\n",
      "             ReLU-28            [-1, 128, 7, 7]               0\n",
      "           Conv2d-29            [-1, 128, 7, 7]         147,456\n",
      "      BatchNorm2d-30            [-1, 128, 7, 7]             256\n",
      "           Conv2d-31            [-1, 128, 7, 7]           8,192\n",
      "      BatchNorm2d-32            [-1, 128, 7, 7]             256\n",
      "             ReLU-33            [-1, 128, 7, 7]               0\n",
      "       BasicBlock-34            [-1, 128, 7, 7]               0\n",
      "           Conv2d-35            [-1, 128, 7, 7]         147,456\n",
      "      BatchNorm2d-36            [-1, 128, 7, 7]             256\n",
      "             ReLU-37            [-1, 128, 7, 7]               0\n",
      "           Conv2d-38            [-1, 128, 7, 7]         147,456\n",
      "      BatchNorm2d-39            [-1, 128, 7, 7]             256\n",
      "             ReLU-40            [-1, 128, 7, 7]               0\n",
      "       BasicBlock-41            [-1, 128, 7, 7]               0\n",
      "           Conv2d-42            [-1, 128, 7, 7]         147,456\n",
      "      BatchNorm2d-43            [-1, 128, 7, 7]             256\n",
      "             ReLU-44            [-1, 128, 7, 7]               0\n",
      "           Conv2d-45            [-1, 128, 7, 7]         147,456\n",
      "      BatchNorm2d-46            [-1, 128, 7, 7]             256\n",
      "             ReLU-47            [-1, 128, 7, 7]               0\n",
      "       BasicBlock-48            [-1, 128, 7, 7]               0\n",
      "           Conv2d-49            [-1, 128, 7, 7]         147,456\n",
      "      BatchNorm2d-50            [-1, 128, 7, 7]             256\n",
      "             ReLU-51            [-1, 128, 7, 7]               0\n",
      "           Conv2d-52            [-1, 128, 7, 7]         147,456\n",
      "      BatchNorm2d-53            [-1, 128, 7, 7]             256\n",
      "             ReLU-54            [-1, 128, 7, 7]               0\n",
      "       BasicBlock-55            [-1, 128, 7, 7]               0\n",
      "           Conv2d-56            [-1, 256, 4, 4]         294,912\n",
      "      BatchNorm2d-57            [-1, 256, 4, 4]             512\n",
      "             ReLU-58            [-1, 256, 4, 4]               0\n",
      "           Conv2d-59            [-1, 256, 4, 4]         589,824\n",
      "      BatchNorm2d-60            [-1, 256, 4, 4]             512\n",
      "           Conv2d-61            [-1, 256, 4, 4]          32,768\n",
      "      BatchNorm2d-62            [-1, 256, 4, 4]             512\n",
      "             ReLU-63            [-1, 256, 4, 4]               0\n",
      "       BasicBlock-64            [-1, 256, 4, 4]               0\n",
      "           Conv2d-65            [-1, 256, 4, 4]         589,824\n",
      "      BatchNorm2d-66            [-1, 256, 4, 4]             512\n",
      "             ReLU-67            [-1, 256, 4, 4]               0\n",
      "           Conv2d-68            [-1, 256, 4, 4]         589,824\n",
      "      BatchNorm2d-69            [-1, 256, 4, 4]             512\n",
      "             ReLU-70            [-1, 256, 4, 4]               0\n",
      "       BasicBlock-71            [-1, 256, 4, 4]               0\n",
      "           Conv2d-72            [-1, 256, 4, 4]         589,824\n",
      "      BatchNorm2d-73            [-1, 256, 4, 4]             512\n",
      "             ReLU-74            [-1, 256, 4, 4]               0\n",
      "           Conv2d-75            [-1, 256, 4, 4]         589,824\n",
      "      BatchNorm2d-76            [-1, 256, 4, 4]             512\n",
      "             ReLU-77            [-1, 256, 4, 4]               0\n",
      "       BasicBlock-78            [-1, 256, 4, 4]               0\n",
      "           Conv2d-79            [-1, 256, 4, 4]         589,824\n",
      "      BatchNorm2d-80            [-1, 256, 4, 4]             512\n",
      "             ReLU-81            [-1, 256, 4, 4]               0\n",
      "           Conv2d-82            [-1, 256, 4, 4]         589,824\n",
      "      BatchNorm2d-83            [-1, 256, 4, 4]             512\n",
      "             ReLU-84            [-1, 256, 4, 4]               0\n",
      "       BasicBlock-85            [-1, 256, 4, 4]               0\n",
      "           Conv2d-86            [-1, 256, 4, 4]         589,824\n",
      "      BatchNorm2d-87            [-1, 256, 4, 4]             512\n",
      "             ReLU-88            [-1, 256, 4, 4]               0\n",
      "           Conv2d-89            [-1, 256, 4, 4]         589,824\n",
      "      BatchNorm2d-90            [-1, 256, 4, 4]             512\n",
      "             ReLU-91            [-1, 256, 4, 4]               0\n",
      "       BasicBlock-92            [-1, 256, 4, 4]               0\n",
      "           Conv2d-93            [-1, 256, 4, 4]         589,824\n",
      "      BatchNorm2d-94            [-1, 256, 4, 4]             512\n",
      "             ReLU-95            [-1, 256, 4, 4]               0\n",
      "           Conv2d-96            [-1, 256, 4, 4]         589,824\n",
      "      BatchNorm2d-97            [-1, 256, 4, 4]             512\n",
      "             ReLU-98            [-1, 256, 4, 4]               0\n",
      "       BasicBlock-99            [-1, 256, 4, 4]               0\n",
      "          Conv2d-100            [-1, 512, 2, 2]       1,179,648\n",
      "     BatchNorm2d-101            [-1, 512, 2, 2]           1,024\n",
      "            ReLU-102            [-1, 512, 2, 2]               0\n",
      "          Conv2d-103            [-1, 512, 2, 2]       2,359,296\n",
      "     BatchNorm2d-104            [-1, 512, 2, 2]           1,024\n",
      "          Conv2d-105            [-1, 512, 2, 2]         131,072\n",
      "     BatchNorm2d-106            [-1, 512, 2, 2]           1,024\n",
      "            ReLU-107            [-1, 512, 2, 2]               0\n",
      "      BasicBlock-108            [-1, 512, 2, 2]               0\n",
      "          Conv2d-109            [-1, 512, 2, 2]       2,359,296\n",
      "     BatchNorm2d-110            [-1, 512, 2, 2]           1,024\n",
      "            ReLU-111            [-1, 512, 2, 2]               0\n",
      "          Conv2d-112            [-1, 512, 2, 2]       2,359,296\n",
      "     BatchNorm2d-113            [-1, 512, 2, 2]           1,024\n",
      "            ReLU-114            [-1, 512, 2, 2]               0\n",
      "      BasicBlock-115            [-1, 512, 2, 2]               0\n",
      "          Conv2d-116            [-1, 512, 2, 2]       2,359,296\n",
      "     BatchNorm2d-117            [-1, 512, 2, 2]           1,024\n",
      "            ReLU-118            [-1, 512, 2, 2]               0\n",
      "          Conv2d-119            [-1, 512, 2, 2]       2,359,296\n",
      "     BatchNorm2d-120            [-1, 512, 2, 2]           1,024\n",
      "            ReLU-121            [-1, 512, 2, 2]               0\n",
      "      BasicBlock-122            [-1, 512, 2, 2]               0\n",
      "AdaptiveAvgPool2d-123            [-1, 512, 1, 1]               0\n",
      "          Linear-124                   [-1, 30]          15,390\n",
      "================================================================\n",
      "Total params: 21,291,230\n",
      "Trainable params: 21,291,230\n",
      "Non-trainable params: 0\n",
      "----------------------------------------------------------------\n",
      "Input size (MB): 0.00\n",
      "Forward/backward pass size (MB): 6.43\n",
      "Params size (MB): 81.22\n",
      "Estimated Total Size (MB): 87.65\n",
      "----------------------------------------------------------------\n"
     ]
    }
   ],
   "source": [
    "summary(model, input_size=(1, 28, 28))"
   ]
  },
  {
   "cell_type": "markdown",
   "metadata": {},
   "source": [
    "## Train"
   ]
  },
  {
   "cell_type": "code",
   "execution_count": 18,
   "metadata": {},
   "outputs": [],
   "source": [
    "def train(model, train_loader, criterion, optimizer, DEVICE):  \n",
    "    \"\"\"\n",
    "    Training function \n",
    "    Input : Model, Iterator = train data loader, Optimizer function,\n",
    "            Criterian, device = cuda or cpu \n",
    "    Output: Training Loss and Training Accuracy\n",
    "    \"\"\"\n",
    "    epoch_loss = 0\n",
    "    epoch_acc = 0\n",
    "    model.train()\n",
    "\n",
    "    for (X, y) in train_loader:\n",
    "        X = X.type(torch.float32).to(DEVICE)\n",
    "        y = y.type(torch.LongTensor).to(DEVICE)\n",
    "        \n",
    "        # preciction error\n",
    "        y_pred = model(X)\n",
    "        loss = criterion(y_pred, y)\n",
    "        \n",
    "        # backpropagation\n",
    "        optimizer.zero_grad()\n",
    "        loss.backward()\n",
    "        optimizer.step()\n",
    "        \n",
    "        acc = calculate_accuracy(y_pred, y)\n",
    "        epoch_loss += loss.item()\n",
    "        epoch_acc += acc.item()\n",
    "    \n",
    "    train_acc_list.append(epoch_acc/len(train_loader)) \n",
    "    train_loss_list.append(epoch_loss/len(train_loader)) \n",
    "        \n",
    "    return epoch_loss / len(train_loader), epoch_acc / len(train_loader) , train_loss_list, train_acc_list\n",
    "\n",
    "def evaluate(model, test_loader, criterion, DEVICE):  \n",
    "    \"\"\"\n",
    "    Evaluation Function\n",
    "    Input : Model, iterator = test data loader, criterian of loss,\n",
    "            device = cuda or cpu\n",
    "    Output: Test loss, test accuracy\n",
    "    \"\"\"\n",
    "    epoch_loss = 0\n",
    "    epoch_acc = 0\n",
    "    \n",
    "    model.eval()\n",
    "    \n",
    "    with torch.no_grad():\n",
    "        for (X, y) in test_loader:\n",
    "            X = X.type(torch.float32).to(DEVICE)\n",
    "            y = y.type(torch.LongTensor).to(DEVICE)\n",
    "\n",
    "            y_pred = model(X)\n",
    "            loss = criterion(y_pred, y)\n",
    "            acc = calculate_accuracy(y_pred, y)\n",
    "\n",
    "            epoch_loss += loss.item()\n",
    "            epoch_acc += acc.item()\n",
    "    \n",
    "    test_acc_list.append(epoch_acc/len(test_loader)) \n",
    "    test_loss_list.append(epoch_loss/len(test_loader))\n",
    "\n",
    "    return epoch_loss / len(test_loader), epoch_acc / len(test_loader) , test_loss_list, test_acc_list\n",
    "\n",
    "def epoch_time(start_time, end_time):\n",
    "    \"\"\"\n",
    "    Function to calculate total time taken in an epoch\n",
    "    \"\"\"\n",
    "    elapsed_time = end_time - start_time\n",
    "    elapsed_mins = int(elapsed_time / 60)\n",
    "    elapsed_secs = int(elapsed_time - (elapsed_mins * 60))\n",
    "    return elapsed_mins, elapsed_secs\n"
   ]
  },
  {
   "cell_type": "code",
   "execution_count": 19,
   "metadata": {},
   "outputs": [],
   "source": [
    "def count_parameters(model):\n",
    "    \"\"\"\n",
    "    Counts the number of trainable parameters\n",
    "    \"\"\"\n",
    "    return sum(p.numel() for p in model.parameters() if p.requires_grad)\n",
    "\n",
    "\n",
    "def calculate_accuracy(y_pred, y):\n",
    "    \"\"\"\n",
    "    Calculates the accuracy of training/evaluating\n",
    "    \"\"\"\n",
    "    top_pred = y_pred.argmax(1, keepdim = True)\n",
    "    correct = top_pred.eq(y.view_as(top_pred)).sum()\n",
    "    acc = correct.float() / y.shape[0]\n",
    "    return acc"
   ]
  },
  {
   "cell_type": "code",
   "execution_count": 20,
   "metadata": {},
   "outputs": [],
   "source": [
    "train_acc_list, train_loss_list = [], []\n",
    "test_acc_list, test_loss_list = [], []"
   ]
  },
  {
   "cell_type": "code",
   "execution_count": 21,
   "metadata": {},
   "outputs": [
    {
     "name": "stdout",
     "output_type": "stream",
     "text": [
      "-----------------------------------------------\n",
      "Epoch: 01    | Epoch Time: 6m 46s\n",
      "-----------------------------------------------\n",
      "\tTrain Loss: 0.641 | Train Accuracy: 81.26%\n",
      "\tTest Loss: 0.442  | Test Accuracy: 86.85%\n",
      "-----------------------------------------------\n",
      "Epoch: 02    | Epoch Time: 6m 44s\n",
      "-----------------------------------------------\n",
      "\tTrain Loss: 0.413 | Train Accuracy: 87.59%\n",
      "\tTest Loss: 0.405  | Test Accuracy: 87.92%\n",
      "-----------------------------------------------\n",
      "Epoch: 03    | Epoch Time: 6m 57s\n",
      "-----------------------------------------------\n",
      "\tTrain Loss: 0.335 | Train Accuracy: 89.72%\n",
      "\tTest Loss: 0.382  | Test Accuracy: 88.82%\n",
      "-----------------------------------------------\n",
      "Epoch: 04    | Epoch Time: 6m 56s\n",
      "-----------------------------------------------\n",
      "\tTrain Loss: 0.274 | Train Accuracy: 91.50%\n",
      "\tTest Loss: 0.382  | Test Accuracy: 88.73%\n",
      "-----------------------------------------------\n",
      "Epoch: 05    | Epoch Time: 6m 51s\n",
      "-----------------------------------------------\n",
      "\tTrain Loss: 0.221 | Train Accuracy: 92.95%\n",
      "\tTest Loss: 0.396  | Test Accuracy: 88.83%\n",
      "-----------------------------------------------\n",
      "Epoch: 06    | Epoch Time: 6m 57s\n",
      "-----------------------------------------------\n",
      "\tTrain Loss: 0.175 | Train Accuracy: 94.38%\n",
      "\tTest Loss: 0.434  | Test Accuracy: 88.50%\n",
      "-----------------------------------------------\n",
      "Epoch: 07    | Epoch Time: 6m 54s\n",
      "-----------------------------------------------\n",
      "\tTrain Loss: 0.140 | Train Accuracy: 95.46%\n",
      "\tTest Loss: 0.465  | Test Accuracy: 88.47%\n",
      "-----------------------------------------------\n",
      "Epoch: 08    | Epoch Time: 7m 3s\n",
      "-----------------------------------------------\n",
      "\tTrain Loss: 0.114 | Train Accuracy: 96.20%\n",
      "\tTest Loss: 0.480  | Test Accuracy: 88.51%\n",
      "-----------------------------------------------\n",
      "Epoch: 09    | Epoch Time: 6m 47s\n",
      "-----------------------------------------------\n",
      "\tTrain Loss: 0.097 | Train Accuracy: 96.75%\n",
      "\tTest Loss: 0.538  | Test Accuracy: 88.27%\n",
      "-----------------------------------------------\n",
      "Epoch: 10    | Epoch Time: 6m 49s\n",
      "-----------------------------------------------\n",
      "\tTrain Loss: 0.086 | Train Accuracy: 97.10%\n",
      "\tTest Loss: 0.553  | Test Accuracy: 88.13%\n",
      "-----------------------------------------------\n",
      "Epoch: 11    | Epoch Time: 6m 44s\n",
      "-----------------------------------------------\n",
      "\tTrain Loss: 0.079 | Train Accuracy: 97.31%\n",
      "\tTest Loss: 0.570  | Test Accuracy: 88.08%\n",
      "-----------------------------------------------\n",
      "Epoch: 12    | Epoch Time: 6m 50s\n",
      "-----------------------------------------------\n",
      "\tTrain Loss: 0.073 | Train Accuracy: 97.51%\n",
      "\tTest Loss: 0.572  | Test Accuracy: 88.31%\n",
      "-----------------------------------------------\n",
      "Epoch: 13    | Epoch Time: 6m 41s\n",
      "-----------------------------------------------\n",
      "\tTrain Loss: 0.067 | Train Accuracy: 97.73%\n",
      "\tTest Loss: 0.599  | Test Accuracy: 88.25%\n",
      "-----------------------------------------------\n",
      "Epoch: 14    | Epoch Time: 6m 40s\n",
      "-----------------------------------------------\n",
      "\tTrain Loss: 0.065 | Train Accuracy: 97.80%\n",
      "\tTest Loss: 0.630  | Test Accuracy: 88.06%\n",
      "-----------------------------------------------\n",
      "Epoch: 15    | Epoch Time: 6m 40s\n",
      "-----------------------------------------------\n",
      "\tTrain Loss: 0.064 | Train Accuracy: 97.86%\n",
      "\tTest Loss: 0.607  | Test Accuracy: 87.92%\n",
      "-----------------------------------------------\n",
      "Epoch: 16    | Epoch Time: 6m 41s\n",
      "-----------------------------------------------\n",
      "\tTrain Loss: 0.061 | Train Accuracy: 97.94%\n",
      "\tTest Loss: 0.623  | Test Accuracy: 87.96%\n",
      "-----------------------------------------------\n",
      "Epoch: 17    | Epoch Time: 6m 41s\n",
      "-----------------------------------------------\n",
      "\tTrain Loss: 0.061 | Train Accuracy: 97.91%\n",
      "\tTest Loss: 0.610  | Test Accuracy: 88.05%\n",
      "-----------------------------------------------\n",
      "Epoch: 18    | Epoch Time: 6m 41s\n",
      "-----------------------------------------------\n",
      "\tTrain Loss: 0.058 | Train Accuracy: 98.03%\n",
      "\tTest Loss: 0.627  | Test Accuracy: 87.86%\n",
      "-----------------------------------------------\n",
      "Epoch: 19    | Epoch Time: 6m 44s\n",
      "-----------------------------------------------\n",
      "\tTrain Loss: 0.058 | Train Accuracy: 98.01%\n",
      "\tTest Loss: 0.624  | Test Accuracy: 88.00%\n",
      "-----------------------------------------------\n",
      "Epoch: 20    | Epoch Time: 6m 42s\n",
      "-----------------------------------------------\n",
      "\tTrain Loss: 0.058 | Train Accuracy: 98.06%\n",
      "\tTest Loss: 0.617  | Test Accuracy: 87.92%\n",
      "-----------------------------------------------\n",
      "Epoch: 21    | Epoch Time: 7m 10s\n",
      "-----------------------------------------------\n",
      "\tTrain Loss: 0.055 | Train Accuracy: 98.13%\n",
      "\tTest Loss: 0.641  | Test Accuracy: 88.24%\n",
      "-----------------------------------------------\n",
      "Epoch: 22    | Epoch Time: 7m 32s\n",
      "-----------------------------------------------\n",
      "\tTrain Loss: 0.056 | Train Accuracy: 98.10%\n",
      "\tTest Loss: 0.612  | Test Accuracy: 87.79%\n",
      "-----------------------------------------------\n",
      "Epoch: 23    | Epoch Time: 9m 9s\n",
      "-----------------------------------------------\n",
      "\tTrain Loss: 0.055 | Train Accuracy: 98.13%\n",
      "\tTest Loss: 0.649  | Test Accuracy: 87.82%\n",
      "-----------------------------------------------\n",
      "Epoch: 24    | Epoch Time: 7m 39s\n",
      "-----------------------------------------------\n",
      "\tTrain Loss: 0.054 | Train Accuracy: 98.12%\n",
      "\tTest Loss: 0.660  | Test Accuracy: 87.89%\n",
      "-----------------------------------------------\n",
      "Epoch: 25    | Epoch Time: 7m 24s\n",
      "-----------------------------------------------\n",
      "\tTrain Loss: 0.055 | Train Accuracy: 98.17%\n",
      "\tTest Loss: 0.632  | Test Accuracy: 87.65%\n",
      "-----------------------------------------------\n",
      "Epoch: 26    | Epoch Time: 6m 55s\n",
      "-----------------------------------------------\n",
      "\tTrain Loss: 0.054 | Train Accuracy: 98.20%\n",
      "\tTest Loss: 0.645  | Test Accuracy: 87.78%\n",
      "-----------------------------------------------\n",
      "Epoch: 27    | Epoch Time: 6m 56s\n",
      "-----------------------------------------------\n",
      "\tTrain Loss: 0.052 | Train Accuracy: 98.22%\n",
      "\tTest Loss: 0.656  | Test Accuracy: 88.03%\n",
      "-----------------------------------------------\n",
      "Epoch: 28    | Epoch Time: 6m 45s\n",
      "-----------------------------------------------\n",
      "\tTrain Loss: 0.053 | Train Accuracy: 98.21%\n",
      "\tTest Loss: 0.672  | Test Accuracy: 87.76%\n",
      "-----------------------------------------------\n",
      "Epoch: 29    | Epoch Time: 6m 41s\n",
      "-----------------------------------------------\n",
      "\tTrain Loss: 0.053 | Train Accuracy: 98.19%\n",
      "\tTest Loss: 0.625  | Test Accuracy: 88.14%\n",
      "-----------------------------------------------\n",
      "Epoch: 30    | Epoch Time: 6m 52s\n",
      "-----------------------------------------------\n",
      "\tTrain Loss: 0.051 | Train Accuracy: 98.30%\n",
      "\tTest Loss: 0.652  | Test Accuracy: 87.68%\n"
     ]
    }
   ],
   "source": [
    "#collapse-hide\n",
    "#Variable to monitor best validation loss\n",
    "best_valid_loss = float('inf')\n",
    "\n",
    "for epoch in range(EPOCHS):\n",
    "\n",
    "    start_time = time.time()\n",
    "    train_loss, train_acc, train_loss_list, train_acc_list = train(model, train_loader, criterion, optimizer,DEVICE)\n",
    "    valid_loss, valid_acc, test_loss_list, test_acc_list = evaluate(model, test_loader, criterion, DEVICE)\n",
    "    scheduler.step()\n",
    "    \n",
    "    #Saving model whenver the best validation loss is obtained\n",
    "    if valid_loss < best_valid_loss:\n",
    "        best_valid_loss = valid_loss\n",
    "        torch.save(model.state_dict(), 'model.pt')\n",
    "    end_time = time.time()\n",
    "    epoch_mins, epoch_secs,  = epoch_time(start_time, end_time) #Monitoring Time\n",
    "    print('-----------------------------------------------')\n",
    "    print(f'Epoch: {epoch+1:02}    | Epoch Time: {epoch_mins}m {epoch_secs}s')\n",
    "    print('-----------------------------------------------')\n",
    "    print(f'\\tTrain Loss: {train_loss:.3f} | Train Accuracy: {train_acc*100:.2f}%')\n",
    "    print(f'\\tTest Loss: {valid_loss:.3f}  | Test Accuracy: {valid_acc*100:.2f}%')\n",
    "    "
   ]
  },
  {
   "cell_type": "code",
   "execution_count": 26,
   "metadata": {},
   "outputs": [
    {
     "name": "stdout",
     "output_type": "stream",
     "text": [
      "save figure:  resnet34_loss\n"
     ]
    },
    {
     "data": {
      "image/png": "[encoded data removed]",
      "text/plain": [
       "<Figure size 432x288 with 1 Axes>"
      ]
     },
     "metadata": {
      "needs_background": "light"
     },
     "output_type": "display_data"
    }
   ],
   "source": [
    "#collapse-hide\n",
    "plt.plot(train_loss_list, label='Train Loss')\n",
    "plt.plot(test_loss_list, label='Test Loss')\n",
    "plt.legend(frameon=False)\n",
    "save_figure('resnet34_loss')"
   ]
  },
  {
   "cell_type": "code",
   "execution_count": 27,
   "metadata": {},
   "outputs": [
    {
     "name": "stdout",
     "output_type": "stream",
     "text": [
      "save figure:  resnet34_acc\n"
     ]
    },
    {
     "data": {
      "image/png": "[encoded data removed]",
      "text/plain": [
       "<Figure size 432x288 with 1 Axes>"
      ]
     },
     "metadata": {
      "needs_background": "light"
     },
     "output_type": "display_data"
    }
   ],
   "source": [
    "#collapse-hide\n",
    "plt.plot(train_acc_list, label='Train Accuracy')\n",
    "plt.plot(test_acc_list, label='Test Accuracy')\n",
    "plt.legend(frameon=False)\n",
    "save_figure('resnet34_acc')"
   ]
  },
  {
   "cell_type": "code",
   "execution_count": null,
   "metadata": {},
   "outputs": [],
   "source": []
  }
 ],
 "metadata": {
  "kernelspec": {
   "display_name": "Python 3.9.12 ('base')",
   "language": "python",
   "name": "python3"
  },
  "language_info": {
   "codemirror_mode": {
    "name": "ipython",
    "version": 3
   },
   "file_extension": ".py",
   "mimetype": "text/x-python",
   "name": "python",
   "nbconvert_exporter": "python",
   "pygments_lexer": "ipython3",
   "version": "3.9.12"
  },
  "orig_nbformat": 4,
  "vscode": {
   "interpreter": {
    "hash": "19d1d53a962d236aa061289c2ac16dc8e6d9648c89fe79f459ae9a3493bc67b4"
   }
  }
 },
 "nbformat": 4,
 "nbformat_minor": 2
}
