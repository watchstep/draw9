{
 "cells": [
  {
   "cell_type": "code",
   "execution_count": 1,
   "metadata": {},
   "outputs": [],
   "source": [
    "# https://pypi.org/project/quickdraw\n",
    "from quickdraw import QuickDrawData\n",
    "import numpy"
   ]
  },
  {
   "cell_type": "code",
   "execution_count": 21,
   "metadata": {},
   "outputs": [],
   "source": [
    "# Get image labels\n",
    "def get_labels():\n",
    "  f = open('labels.txt', 'r')\n",
    "  labels = f.readlines()\n",
    "  f.close()\n",
    "  \n",
    "  labels = [l.replace('\\n', '') for l in labels]\n",
    "  return labels"
   ]
  },
  {
   "cell_type": "code",
   "execution_count": null,
   "metadata": {},
   "outputs": [],
   "source": [
    "def quickdraw_npy():\n",
    "  labels = get_labels()\n",
    "  base_url = 'https://storage.googleapis.com/quickdraw_dataset/full/numpy_bitmap/'\n",
    "  for label in labels:\n",
    "    npy_url = base_url + label + '.npy'"
   ]
  }
 ],
 "metadata": {
  "kernelspec": {
   "display_name": "Python 3.9.13 ('draw9-LLXh4kZo-py3.9')",
   "language": "python",
   "name": "python3"
  },
  "language_info": {
   "codemirror_mode": {
    "name": "ipython",
    "version": 3
   },
   "file_extension": ".py",
   "mimetype": "text/x-python",
   "name": "python",
   "nbconvert_exporter": "python",
   "pygments_lexer": "ipython3",
   "version": "3.9.13"
  },
  "orig_nbformat": 4,
  "vscode": {
   "interpreter": {
    "hash": "70cc00357ed01bc6d5537ef126e3ff1ba12666969a02098bd9d91b09f74ea2f2"
   }
  }
 },
 "nbformat": 4,
 "nbformat_minor": 2
}
